{
 "cells": [
  {
   "cell_type": "markdown",
   "metadata": {
    "collapsed": true,
    "deletable": true,
    "editable": true
   },
   "source": [
    "# Artificial Intelligence Nanodegree\n",
    "## Machine Translation Project\n",
    "In this notebook, sections that end with **'(IMPLEMENTATION)'** in the header indicate that the following blocks of code will require additional functionality which you must provide. Please be sure to read the instructions carefully!\n",
    "\n",
    "## Introduction\n",
    "In this notebook, you will build a deep neural network that functions as part of an end-to-end machine translation pipeline. Your completed pipeline will accept English text as input and return the French translation.\n",
    "\n",
    "- **Preprocess** - You'll convert text to sequence of integers.\n",
    "- **Models** Create models which accepts a sequence of integers as input and returns a probability distribution over possible translations. After learning about the basic types of neural networks that are often used for machine translation, you will engage in your own investigations, to design your own model!\n",
    "- **Prediction** Run the model on English text.\n",
    "\n",
    "## Dataset\n",
    "We begin by investigating the dataset that will be used to train and evaluate your pipeline.  The most common datasets used for machine translation are from [WMT](http://www.statmt.org/).  However, that will take a long time to train a neural network on.  We'll be using a dataset we created for this project that contains a small vocabulary.  You'll be able to train your model in a reasonable time with this dataset.\n",
    "### Load Data\n",
    "The data is located in `data/small_vocab_en` and `data/small_vocab_fr`. The `small_vocab_en` file contains English sentences with their French translations in the `small_vocab_fr` file. Load the English and French data from these files from running the cell below."
   ]
  },
  {
   "cell_type": "code",
   "execution_count": 1,
   "metadata": {
    "collapsed": false,
    "deletable": true,
    "editable": true
   },
   "outputs": [
    {
     "name": "stdout",
     "output_type": "stream",
     "text": [
      "Dataset Loaded\n"
     ]
    }
   ],
   "source": [
    "import helper\n",
    "import warnings\n",
    "warnings.filterwarnings('ignore')\n",
    "\n",
    "# Load English data\n",
    "english_sentences = helper.load_data('data/small_vocab_en')\n",
    "# Load French data\n",
    "french_sentences = helper.load_data('data/small_vocab_fr')\n",
    "\n",
    "print('Dataset Loaded')"
   ]
  },
  {
   "cell_type": "markdown",
   "metadata": {
    "deletable": true,
    "editable": true
   },
   "source": [
    "### Files\n",
    "Each line in `small_vocab_en` contains an English sentence with the respective translation in each line of `small_vocab_fr`.  View the first two lines from each file."
   ]
  },
  {
   "cell_type": "code",
   "execution_count": 2,
   "metadata": {
    "collapsed": false,
    "deletable": true,
    "editable": true
   },
   "outputs": [
    {
     "name": "stdout",
     "output_type": "stream",
     "text": [
      "small_vocab_en Line 1:  new jersey is sometimes quiet during autumn , and it is snowy in april .\n",
      "small_vocab_fr Line 1:  new jersey est parfois calme pendant l' automne , et il est neigeux en avril .\n",
      "small_vocab_en Line 2:  the united states is usually chilly during july , and it is usually freezing in november .\n",
      "small_vocab_fr Line 2:  les états-unis est généralement froid en juillet , et il gèle habituellement en novembre .\n"
     ]
    }
   ],
   "source": [
    "for sample_i in range(2):\n",
    "    print('small_vocab_en Line {}:  {}'.format(sample_i + 1, english_sentences[sample_i]))\n",
    "    print('small_vocab_fr Line {}:  {}'.format(sample_i + 1, french_sentences[sample_i]))"
   ]
  },
  {
   "cell_type": "markdown",
   "metadata": {
    "deletable": true,
    "editable": true
   },
   "source": [
    "From looking at the sentences, you can see they have been preprocessed already.  The puncuations have been delimited using spaces. All the text have been converted to lowercase.  This should save you some time, but the text requires more preprocessing.\n",
    "### Vocabulary\n",
    "The complexity of the problem is determined by the complexity of the vocabulary.  A more complex vocabulary is a more complex problem.  Let's look at the complexity of the dataset we'll be working with."
   ]
  },
  {
   "cell_type": "code",
   "execution_count": 3,
   "metadata": {
    "collapsed": false,
    "deletable": true,
    "editable": true
   },
   "outputs": [
    {
     "name": "stdout",
     "output_type": "stream",
     "text": [
      "1823250 English words.\n",
      "227 unique English words.\n",
      "10 Most common words in the English dataset:\n",
      "\"is\" \",\" \".\" \"in\" \"it\" \"during\" \"the\" \"but\" \"and\" \"sometimes\"\n",
      "\n",
      "1961295 French words.\n",
      "355 unique French words.\n",
      "10 Most common words in the French dataset:\n",
      "\"est\" \".\" \",\" \"en\" \"il\" \"les\" \"mais\" \"et\" \"la\" \"parfois\"\n"
     ]
    }
   ],
   "source": [
    "import collections\n",
    "\n",
    "english_words_counter = collections.Counter([word for sentence in english_sentences for word in sentence.split()])\n",
    "french_words_counter = collections.Counter([word for sentence in french_sentences for word in sentence.split()])\n",
    "\n",
    "print('{} English words.'.format(len([word for sentence in english_sentences for word in sentence.split()])))\n",
    "print('{} unique English words.'.format(len(english_words_counter)))\n",
    "print('10 Most common words in the English dataset:')\n",
    "print('\"' + '\" \"'.join(list(zip(*english_words_counter.most_common(10)))[0]) + '\"')\n",
    "print()\n",
    "print('{} French words.'.format(len([word for sentence in french_sentences for word in sentence.split()])))\n",
    "print('{} unique French words.'.format(len(french_words_counter)))\n",
    "print('10 Most common words in the French dataset:')\n",
    "print('\"' + '\" \"'.join(list(zip(*french_words_counter.most_common(10)))[0]) + '\"')"
   ]
  },
  {
   "cell_type": "markdown",
   "metadata": {
    "deletable": true,
    "editable": true
   },
   "source": [
    "For comparison, _Alice's Adventures in Wonderland_ contains 2,766 unique words of a total of 15,500 words.\n",
    "## Preprocess\n",
    "For this project, you won't use text data as input to your model. Instead, you'll convert the text into sequences of integers using the following preprocess methods:\n",
    "1. Tokenize the words into ids\n",
    "2. Add padding to make all the sequences the same length.\n",
    "\n",
    "Time to start preprocessing the data...\n",
    "### Tokenize (IMPLEMENTATION)\n",
    "For a neural network to predict on text data, it first has to be turned into data it can understand. Text data like \"dog\" is a sequence of ASCII character encodings.  Since a neural network is a series of multiplication and addition operations, the input data needs to be number(s).\n",
    "\n",
    "We can turn each character into a number or each word into a number.  These are called character and word ids, respectively.  Character ids are used for character level models that generate text predictions for each character.  A word level model uses word ids that generate text predictions for each word.  Word level models tend to learn better, since they are lower in complexity, so we'll use those.\n",
    "\n",
    "Turn each sentence into a sequence of words ids using Keras's [`Tokenizer`](https://keras.io/preprocessing/text/#tokenizer) function. Use this function to tokenize `english_sentences` and `french_sentences` in the cell below.\n",
    "\n",
    "Running the cell will run `tokenize` on sample data and show output for debugging."
   ]
  },
  {
   "cell_type": "code",
   "execution_count": 4,
   "metadata": {
    "collapsed": false,
    "deletable": true,
    "editable": true
   },
   "outputs": [
    {
     "name": "stderr",
     "output_type": "stream",
     "text": [
      "Using TensorFlow backend.\n"
     ]
    },
    {
     "name": "stdout",
     "output_type": "stream",
     "text": [
      "{'the': 1, 'quick': 2, 'a': 3, 'brown': 4, 'fox': 5, 'jumps': 6, 'over': 7, 'lazy': 8, 'dog': 9, 'by': 10, 'jove': 11, 'my': 12, 'study': 13, 'of': 14, 'lexicography': 15, 'won': 16, 'prize': 17, 'this': 18, 'is': 19, 'short': 20, 'sentence': 21}\n",
      "\n",
      "Sequence 1 in x\n",
      "  Input:  The quick brown fox jumps over the lazy dog .\n",
      "  Output: [1, 2, 4, 5, 6, 7, 1, 8, 9]\n",
      "Sequence 2 in x\n",
      "  Input:  By Jove , my quick study of lexicography won a prize .\n",
      "  Output: [10, 11, 12, 2, 13, 14, 15, 16, 3, 17]\n",
      "Sequence 3 in x\n",
      "  Input:  This is a short sentence .\n",
      "  Output: [18, 19, 3, 20, 21]\n"
     ]
    }
   ],
   "source": [
    "import project_tests as tests\n",
    "from keras.preprocessing.text import Tokenizer\n",
    "\n",
    "def tokenize(x):\n",
    "    \"\"\"\n",
    "    Tokenize x\n",
    "    :param x: List of sentences/strings to be tokenized\n",
    "    :return: Tuple of (tokenized x data, tokenizer used to tokenize x)\n",
    "    \"\"\"\n",
    "    # TODO: Implement\n",
    "    \n",
    "    # Initialiaze a Tokenizer\n",
    "    tokenizer = Tokenizer()\n",
    "    \n",
    "    # Fit the text\n",
    "    tokenizer.fit_on_texts(x)\n",
    "    \n",
    "    # Return the generated sequence and tokenizer\n",
    "    return tokenizer.texts_to_sequences(x), tokenizer        \n",
    "\n",
    "# Test the tokenize()\n",
    "tests.test_tokenize(tokenize)\n",
    "\n",
    "# Tokenize Example output\n",
    "text_sentences = [\n",
    "    'The quick brown fox jumps over the lazy dog .',\n",
    "    'By Jove , my quick study of lexicography won a prize .',\n",
    "    'This is a short sentence .']\n",
    "text_tokenized, text_tokenizer = tokenize(text_sentences)\n",
    "print(text_tokenizer.word_index)\n",
    "print()\n",
    "\n",
    "for sample_i, (sent, token_sent) in enumerate(zip(text_sentences, text_tokenized)):\n",
    "    print('Sequence {} in x'.format(sample_i + 1))\n",
    "    print('  Input:  {}'.format(sent))\n",
    "    print('  Output: {}'.format(token_sent))"
   ]
  },
  {
   "cell_type": "markdown",
   "metadata": {
    "deletable": true,
    "editable": true
   },
   "source": [
    "### Padding (IMPLEMENTATION)\n",
    "When batching the sequence of word ids together, each sequence needs to be the same length.  Since sentences are dynamic in length, we can add padding to the end of the sequences to make them the same length.\n",
    "\n",
    "Make sure all the English sequences have the same length and all the French sequences have the same length by adding padding to the **end** of each sequence using Keras's [`pad_sequences`](https://keras.io/preprocessing/sequence/#pad_sequences) function."
   ]
  },
  {
   "cell_type": "code",
   "execution_count": 5,
   "metadata": {
    "collapsed": false,
    "deletable": true,
    "editable": true
   },
   "outputs": [
    {
     "name": "stdout",
     "output_type": "stream",
     "text": [
      "Sequence 1 in x\n",
      "  Input:  [1 2 4 5 6 7 1 8 9]\n",
      "  Output: [1 2 4 5 6 7 1 8 9 0]\n",
      "Sequence 2 in x\n",
      "  Input:  [10 11 12  2 13 14 15 16  3 17]\n",
      "  Output: [10 11 12  2 13 14 15 16  3 17]\n",
      "Sequence 3 in x\n",
      "  Input:  [18 19  3 20 21]\n",
      "  Output: [18 19  3 20 21  0  0  0  0  0]\n"
     ]
    }
   ],
   "source": [
    "import numpy as np\n",
    "from keras.preprocessing.sequence import pad_sequences\n",
    "\n",
    "def pad(x, length=None):\n",
    "    \"\"\"\n",
    "    Pad x\n",
    "    :param x: List of sequences.\n",
    "    :param length: Length to pad the sequence to.  If None, use length of longest sequence in x.\n",
    "    :return: Padded numpy array of sequences\n",
    "    \"\"\"\n",
    "    # TODO: Implement\n",
    "    \n",
    "    # Use length of longest sequence in x if length is none\n",
    "    if length is None:\n",
    "        length = max([len(seq) for seq in x])\n",
    "        \n",
    "    # Return the padded sequences\n",
    "    return pad_sequences(x, maxlen = length, padding = 'post')    \n",
    "\n",
    "# Test the pad() function\n",
    "tests.test_pad(pad)\n",
    "\n",
    "# Pad Tokenized output\n",
    "test_pad = pad(text_tokenized)\n",
    "for sample_i, (token_sent, pad_sent) in enumerate(zip(text_tokenized, test_pad)):\n",
    "    print('Sequence {} in x'.format(sample_i + 1))\n",
    "    print('  Input:  {}'.format(np.array(token_sent)))\n",
    "    print('  Output: {}'.format(pad_sent))"
   ]
  },
  {
   "cell_type": "markdown",
   "metadata": {
    "deletable": true,
    "editable": true
   },
   "source": [
    "### Preprocess Pipeline\n",
    "Your focus for this project is to build neural network architecture, so we won't ask you to create a preprocess pipeline.  Instead, we've provided you with the implementation of the `preprocess` function."
   ]
  },
  {
   "cell_type": "code",
   "execution_count": 6,
   "metadata": {
    "collapsed": false,
    "deletable": true,
    "editable": true
   },
   "outputs": [
    {
     "name": "stdout",
     "output_type": "stream",
     "text": [
      "Data Preprocessed\n"
     ]
    }
   ],
   "source": [
    "def preprocess(x, y):\n",
    "    \"\"\"\n",
    "    Preprocess x and y\n",
    "    :param x: Feature List of sentences\n",
    "    :param y: Label List of sentences\n",
    "    :return: Tuple of (Preprocessed x, Preprocessed y, x tokenizer, y tokenizer)\n",
    "    \"\"\"\n",
    "    preprocess_x, x_tk = tokenize(x)\n",
    "    preprocess_y, y_tk = tokenize(y)\n",
    "\n",
    "    preprocess_x = pad(preprocess_x)\n",
    "    preprocess_y = pad(preprocess_y)\n",
    "\n",
    "    # Keras's sparse_categorical_crossentropy function requires the labels to be in 3 dimensions\n",
    "    preprocess_y = preprocess_y.reshape(*preprocess_y.shape, 1)\n",
    "\n",
    "    return preprocess_x, preprocess_y, x_tk, y_tk\n",
    "\n",
    "preproc_english_sentences, preproc_french_sentences, english_tokenizer, french_tokenizer =\\\n",
    "    preprocess(english_sentences, french_sentences)\n",
    "\n",
    "print('Data Preprocessed')"
   ]
  },
  {
   "cell_type": "markdown",
   "metadata": {
    "deletable": true,
    "editable": true
   },
   "source": [
    "## Models\n",
    "In this section, you will experiment with various neural network architectures.\n",
    "You will begin by training four relatively simple architectures.\n",
    "- Model 1 is a simple RNN\n",
    "- Model 2 is a RNN with Embedding\n",
    "- Model 3 is a Bidirectional RNN\n",
    "- Model 4 is an optional Encoder-Decoder RNN\n",
    "\n",
    "After experimenting with the four simple architectures, you will construct a deeper architecture that is designed to outperform all four models.\n",
    "### Ids Back to Text\n",
    "The neural network will be translating the input to words ids, which isn't the final form we want.  We want the French translation.  The function `logits_to_text` will bridge the gab between the logits from the neural network to the French translation.  You'll be using this function to better understand the output of the neural network."
   ]
  },
  {
   "cell_type": "code",
   "execution_count": 7,
   "metadata": {
    "collapsed": false,
    "deletable": true,
    "editable": true
   },
   "outputs": [
    {
     "name": "stdout",
     "output_type": "stream",
     "text": [
      "`logits_to_text` function loaded.\n"
     ]
    }
   ],
   "source": [
    "def logits_to_text(logits, tokenizer):\n",
    "    \"\"\"\n",
    "    Turn logits from a neural network into text using the tokenizer\n",
    "    :param logits: Logits from a neural network\n",
    "    :param tokenizer: Keras Tokenizer fit on the labels\n",
    "    :return: String that represents the text of the logits\n",
    "    \"\"\"\n",
    "    index_to_words = {id: word for word, id in tokenizer.word_index.items()}\n",
    "    index_to_words[0] = '<PAD>'\n",
    "\n",
    "    return ' '.join([index_to_words[prediction] for prediction in np.argmax(logits, 1)])\n",
    "\n",
    "print('`logits_to_text` function loaded.')"
   ]
  },
  {
   "cell_type": "markdown",
   "metadata": {
    "deletable": true,
    "editable": true
   },
   "source": [
    "### Model 1: RNN (IMPLEMENTATION)\n",
    "![RNN](images/rnn.png)\n",
    "A basic RNN model is a good baseline for sequence data.  In this model, you'll build a RNN that translates English to French."
   ]
  },
  {
   "cell_type": "code",
   "execution_count": 8,
   "metadata": {
    "collapsed": true,
    "deletable": true,
    "editable": true
   },
   "outputs": [],
   "source": [
    "from keras.layers import GRU, Input, Dense, TimeDistributed\n",
    "from keras.models import Model, Sequential\n",
    "from keras.layers import Activation\n",
    "from keras.optimizers import Adam\n",
    "from keras.losses import sparse_categorical_crossentropy\n",
    "\n",
    "\n",
    "def simple_model(input_shape, output_sequence_length, english_vocab_size, french_vocab_size):\n",
    "    \"\"\"\n",
    "    Build and train a basic RNN on x and y\n",
    "    :param input_shape: Tuple of input shape\n",
    "    :param output_sequence_length: Length of output sequence\n",
    "    :param english_vocab_size: Number of unique English words in the dataset\n",
    "    :param french_vocab_size: Number of unique French words in the dataset\n",
    "    :return: Keras model built, but not trained\n",
    "    \"\"\"\n",
    "    # TODO: Build the layers\n",
    "    \n",
    "    model = Sequential()\n",
    "    \n",
    "    units = 64\n",
    "    # Add Gated Recurrent Unit (GRU) layer\n",
    "    model.add(GRU(units, input_shape = input_shape[1:], return_sequences=True))\n",
    "    \n",
    "    # Add TimeDistributed (output) layer\n",
    "    model.add(TimeDistributed(Dense(french_vocab_size, activation='softmax')))    \n",
    "    \n",
    "    learning_rate = 0.001\n",
    "            \n",
    "    # Compile the layer\n",
    "    model.compile(loss = sparse_categorical_crossentropy,\n",
    "                  optimizer = Adam(learning_rate),\n",
    "                  metrics = ['accuracy'])\n",
    "    \n",
    "    return model\n",
    "\n",
    "# Test the compiled model before traning\n",
    "tests.test_simple_model(simple_model)"
   ]
  },
  {
   "cell_type": "code",
   "execution_count": 9,
   "metadata": {
    "collapsed": false,
    "deletable": true,
    "editable": true
   },
   "outputs": [
    {
     "name": "stdout",
     "output_type": "stream",
     "text": [
      "_________________________________________________________________\n",
      "Layer (type)                 Output Shape              Param #   \n",
      "=================================================================\n",
      "gru_2 (GRU)                  (None, 21, 64)            12672     \n",
      "_________________________________________________________________\n",
      "time_distributed_2 (TimeDist (None, 21, 344)           22360     \n",
      "=================================================================\n",
      "Total params: 35,032\n",
      "Trainable params: 35,032\n",
      "Non-trainable params: 0\n",
      "_________________________________________________________________\n",
      "Train on 110288 samples, validate on 27573 samples\n",
      "Epoch 1/10\n",
      "110288/110288 [==============================] - 10s - loss: 3.4139 - acc: 0.4121 - val_loss: nan - val_acc: 0.4560\n",
      "Epoch 2/10\n",
      "110288/110288 [==============================] - 6s - loss: 2.4777 - acc: 0.4651 - val_loss: nan - val_acc: 0.4758\n",
      "Epoch 3/10\n",
      "110288/110288 [==============================] - 6s - loss: 2.2578 - acc: 0.4918 - val_loss: nan - val_acc: 0.5056\n",
      "Epoch 4/10\n",
      "110288/110288 [==============================] - 6s - loss: 2.0152 - acc: 0.5311 - val_loss: nan - val_acc: 0.5565\n",
      "Epoch 5/10\n",
      "110288/110288 [==============================] - 6s - loss: 1.8237 - acc: 0.5644 - val_loss: nan - val_acc: 0.5751\n",
      "Epoch 6/10\n",
      "110288/110288 [==============================] - 6s - loss: 1.7106 - acc: 0.5795 - val_loss: nan - val_acc: 0.5825\n",
      "Epoch 7/10\n",
      "110288/110288 [==============================] - 6s - loss: 1.6322 - acc: 0.5870 - val_loss: nan - val_acc: 0.5910\n",
      "Epoch 8/10\n",
      "110288/110288 [==============================] - 6s - loss: 1.5713 - acc: 0.5950 - val_loss: nan - val_acc: 0.5961\n",
      "Epoch 9/10\n",
      "110288/110288 [==============================] - 6s - loss: 1.5206 - acc: 0.6005 - val_loss: nan - val_acc: 0.6042\n",
      "Epoch 10/10\n",
      "110288/110288 [==============================] - 6s - loss: 1.4745 - acc: 0.6080 - val_loss: nan - val_acc: 0.6124\n"
     ]
    },
    {
     "data": {
      "text/plain": [
       "<keras.callbacks.History at 0x7f64127d2cc0>"
      ]
     },
     "execution_count": 9,
     "metadata": {},
     "output_type": "execute_result"
    }
   ],
   "source": [
    "# Reshaping the input to work with a basic RNN\n",
    "tmp_x = pad(preproc_english_sentences, preproc_french_sentences.shape[1])\n",
    "tmp_x = tmp_x.reshape((-1, preproc_french_sentences.shape[-2], 1))\n",
    "\n",
    "# Train the neural network\n",
    "simple_rnn_model = simple_model(\n",
    "    tmp_x.shape,\n",
    "    preproc_french_sentences.shape[1],\n",
    "    len(english_tokenizer.word_index),\n",
    "    len(french_tokenizer.word_index))\n",
    "\n",
    "simple_rnn_model.summary() \n",
    "\n",
    "simple_rnn_model.fit(tmp_x, preproc_french_sentences, batch_size = 1024, epochs = 10, validation_split = 0.2);"
   ]
  },
  {
   "cell_type": "code",
   "execution_count": 10,
   "metadata": {
    "collapsed": false,
    "deletable": true,
    "editable": true
   },
   "outputs": [
    {
     "name": "stdout",
     "output_type": "stream",
     "text": [
      "paris jersey est parfois parfois en en et il est est en en <PAD> <PAD> <PAD> <PAD> <PAD> <PAD> <PAD> <PAD>\n"
     ]
    }
   ],
   "source": [
    "# Print prediction(s)\n",
    "print(logits_to_text(simple_rnn_model.predict(tmp_x[:1])[0], french_tokenizer))"
   ]
  },
  {
   "cell_type": "markdown",
   "metadata": {
    "deletable": true,
    "editable": true
   },
   "source": [
    "### Model 2: Embedding (IMPLEMENTATION)\n",
    "![RNN](images/embedding.png)\n",
    "You've turned the words into ids, but there's a better representation of a word.  This is called word embeddings.  An embedding is a vector representation of the word that is close to similar words in n-dimensional space, where the n represents the size of the embedding vectors.\n",
    "\n",
    "In this model, you'll create a RNN model using embedding."
   ]
  },
  {
   "cell_type": "code",
   "execution_count": 11,
   "metadata": {
    "collapsed": true,
    "deletable": true,
    "editable": true
   },
   "outputs": [],
   "source": [
    "from keras.layers.embeddings import Embedding\n",
    "\n",
    "def embed_model(input_shape, output_sequence_length, english_vocab_size, french_vocab_size):\n",
    "    \"\"\"\n",
    "    Build and train a RNN model using word embedding on x and y\n",
    "    :param input_shape: Tuple of input shape\n",
    "    :param output_sequence_length: Length of output sequence\n",
    "    :param english_vocab_size: Number of unique English words in the dataset\n",
    "    :param french_vocab_size: Number of unique French words in the dataset\n",
    "    :return: Keras model built, but not trained\n",
    "    \"\"\"\n",
    "    # TODO: Implement\n",
    "    model = Sequential()\n",
    "    \n",
    "    # Add embedding layer\n",
    "    model.add(Embedding(input_dim = english_vocab_size, \n",
    "                        output_dim = output_sequence_length,\n",
    "                        input_length = input_shape[1]))\n",
    "\n",
    "    units = 64    \n",
    "    # Add GRU layer\n",
    "    model.add(GRU(units, return_sequences=True))\n",
    "    \n",
    "    # Add TimeDistributed (output) layer\n",
    "    model.add(TimeDistributed(Dense(french_vocab_size, activation='softmax')))\n",
    "\n",
    "    learning_rate = 0.001\n",
    "\n",
    "    # Compile the model\n",
    "    model.compile(loss = sparse_categorical_crossentropy,\n",
    "                  optimizer = Adam(learning_rate),\n",
    "                  metrics = ['accuracy'])   \n",
    "    \n",
    "    return model\n",
    "\n",
    "# Test the compiled model before traning\n",
    "tests.test_embed_model(embed_model)"
   ]
  },
  {
   "cell_type": "code",
   "execution_count": 12,
   "metadata": {
    "collapsed": false,
    "deletable": true,
    "editable": true
   },
   "outputs": [
    {
     "name": "stdout",
     "output_type": "stream",
     "text": [
      "_________________________________________________________________\n",
      "Layer (type)                 Output Shape              Param #   \n",
      "=================================================================\n",
      "embedding_2 (Embedding)      (None, 21, 21)            4179      \n",
      "_________________________________________________________________\n",
      "gru_4 (GRU)                  (None, 21, 64)            16512     \n",
      "_________________________________________________________________\n",
      "time_distributed_4 (TimeDist (None, 21, 344)           22360     \n",
      "=================================================================\n",
      "Total params: 43,051\n",
      "Trainable params: 43,051\n",
      "Non-trainable params: 0\n",
      "_________________________________________________________________\n",
      "Train on 110288 samples, validate on 27573 samples\n",
      "Epoch 1/10\n",
      "110288/110288 [==============================] - 6s - loss: 3.8851 - acc: 0.4008 - val_loss: nan - val_acc: 0.4093\n",
      "Epoch 2/10\n",
      "110288/110288 [==============================] - 6s - loss: 2.9024 - acc: 0.4190 - val_loss: nan - val_acc: 0.4708\n",
      "Epoch 3/10\n",
      "110288/110288 [==============================] - 6s - loss: 2.4260 - acc: 0.4873 - val_loss: nan - val_acc: 0.5186\n",
      "Epoch 4/10\n",
      "110288/110288 [==============================] - 6s - loss: 2.0066 - acc: 0.5470 - val_loss: nan - val_acc: 0.5748\n",
      "Epoch 5/10\n",
      "110288/110288 [==============================] - 6s - loss: 1.6720 - acc: 0.5981 - val_loss: nan - val_acc: 0.6187\n",
      "Epoch 6/10\n",
      "110288/110288 [==============================] - 6s - loss: 1.4681 - acc: 0.6363 - val_loss: nan - val_acc: 0.6588\n",
      "Epoch 7/10\n",
      "110288/110288 [==============================] - 6s - loss: 1.2926 - acc: 0.6817 - val_loss: nan - val_acc: 0.7034\n",
      "Epoch 8/10\n",
      "110288/110288 [==============================] - 6s - loss: 1.1401 - acc: 0.7210 - val_loss: nan - val_acc: 0.7369\n",
      "Epoch 9/10\n",
      "110288/110288 [==============================] - 6s - loss: 1.0170 - acc: 0.7492 - val_loss: nan - val_acc: 0.7622\n",
      "Epoch 10/10\n",
      "110288/110288 [==============================] - 6s - loss: 0.9121 - acc: 0.7715 - val_loss: nan - val_acc: 0.7800\n"
     ]
    }
   ],
   "source": [
    "# Reshaping the input to work with a Embedding RNN\n",
    "tmp_x = pad(preproc_english_sentences, preproc_french_sentences.shape[1])\n",
    "\n",
    "# Train the neural network\n",
    "embed_rnn_model = embed_model(\n",
    "    tmp_x.shape,\n",
    "    preproc_french_sentences.shape[1],\n",
    "    len(english_tokenizer.word_index),\n",
    "    len(french_tokenizer.word_index))\n",
    "\n",
    "embed_rnn_model.summary() \n",
    "\n",
    "embed_rnn_model.fit(tmp_x, preproc_french_sentences, batch_size = 1024, epochs = 10, validation_split = 0.2);"
   ]
  },
  {
   "cell_type": "code",
   "execution_count": 13,
   "metadata": {
    "collapsed": false,
    "deletable": true,
    "editable": true
   },
   "outputs": [
    {
     "name": "stdout",
     "output_type": "stream",
     "text": [
      "new jersey est parfois calme en l' l' il il est en en en <PAD> <PAD> <PAD> <PAD> <PAD> <PAD> <PAD>\n"
     ]
    }
   ],
   "source": [
    "# Print prediction(s)\n",
    "print(logits_to_text(embed_rnn_model.predict(tmp_x[:1])[0], french_tokenizer))"
   ]
  },
  {
   "cell_type": "markdown",
   "metadata": {
    "deletable": true,
    "editable": true
   },
   "source": [
    "### Model 3: Bidirectional RNNs (IMPLEMENTATION)\n",
    "![RNN](images/bidirectional.png)\n",
    "One restriction of a RNN is that it can't see the future input, only the past.  This is where bidirectional recurrent neural networks come in.  They are able to see the future data."
   ]
  },
  {
   "cell_type": "code",
   "execution_count": 14,
   "metadata": {
    "collapsed": true,
    "deletable": true,
    "editable": true
   },
   "outputs": [],
   "source": [
    "from keras.layers import Bidirectional\n",
    "\n",
    "def bd_model(input_shape, output_sequence_length, english_vocab_size, french_vocab_size):\n",
    "    \"\"\"\n",
    "    Build and train a bidirectional RNN model on x and y\n",
    "    :param input_shape: Tuple of input shape\n",
    "    :param output_sequence_length: Length of output sequence\n",
    "    :param english_vocab_size: Number of unique English words in the dataset\n",
    "    :param french_vocab_size: Number of unique French words in the dataset\n",
    "    :return: Keras model built, but not trained\n",
    "    \"\"\"\n",
    "    # TODO: Implement\n",
    "    \n",
    "    model = Sequential()\n",
    "\n",
    "    units = 64      \n",
    "    # Add bidirectional GRU layer\n",
    "    model.add(Bidirectional(GRU(100, return_sequences = True), input_shape = input_shape[1:]))\n",
    "    \n",
    "    # Add TimeDistributed (output) layer    \n",
    "    model.add(TimeDistributed(Dense(french_vocab_size, activation='softmax')))\n",
    "    \n",
    "    learning_rate = 0.001\n",
    "\n",
    "    # Compile the model\n",
    "    model.compile(loss = sparse_categorical_crossentropy,\n",
    "                  optimizer = Adam(learning_rate),\n",
    "                  metrics = ['accuracy'])   \n",
    "\n",
    "    return model\n",
    "\n",
    "# Test the compiled model before traning\n",
    "tests.test_bd_model(bd_model)"
   ]
  },
  {
   "cell_type": "code",
   "execution_count": 15,
   "metadata": {
    "collapsed": false,
    "deletable": true,
    "editable": true
   },
   "outputs": [
    {
     "name": "stdout",
     "output_type": "stream",
     "text": [
      "_________________________________________________________________\n",
      "Layer (type)                 Output Shape              Param #   \n",
      "=================================================================\n",
      "bidirectional_2 (Bidirection (None, 21, 200)           61200     \n",
      "_________________________________________________________________\n",
      "time_distributed_6 (TimeDist (None, 21, 344)           69144     \n",
      "=================================================================\n",
      "Total params: 130,344\n",
      "Trainable params: 130,344\n",
      "Non-trainable params: 0\n",
      "_________________________________________________________________\n",
      "Train on 110288 samples, validate on 27573 samples\n",
      "Epoch 1/10\n",
      "110288/110288 [==============================] - 12s - loss: 2.7936 - acc: 0.4972 - val_loss: nan - val_acc: 0.5641\n",
      "Epoch 2/10\n",
      "110288/110288 [==============================] - 11s - loss: 1.6783 - acc: 0.5870 - val_loss: nan - val_acc: 0.6085 - loss: 1.7852 - acc: 0.571 - ETA: 6s - los\n",
      "Epoch 3/10\n",
      "110288/110288 [==============================] - 11s - loss: 1.4592 - acc: 0.6154 - val_loss: nan - val_acc: 0.6239acc: 0.6 - ETA:\n",
      "Epoch 4/10\n",
      "110288/110288 [==============================] - 11s - loss: 1.3478 - acc: 0.6299 - val_loss: nan - val_acc: 0.6371:  - ETA: 6s - loss: 1.3768 - acc: 0. - ETA: 6s - loss: 1.375 - ETA: 5s - loss: 1.3679 - acc: 0.62 - ETA: 4s - loss: 1.367 - ETA: 3s  - ETA: 0s - loss: 1.3496 - acc: \n",
      "Epoch 5/10\n",
      "110288/110288 [==============================] - 11s - loss: 1.2720 - acc: 0.6455 - val_loss: nan - val_acc: 0.6557: 0.6 - ETA: 5s - los - ETA: 3s - loss: 1.2839 - acc: 0.642 - E\n",
      "Epoch 6/10\n",
      "110288/110288 [==============================] - 11s - loss: 1.2120 - acc: 0.6587 - val_loss: nan - val_acc: 0.6644\n",
      "Epoch 7/10\n",
      "110288/110288 [==============================] - 11s - loss: 1.1648 - acc: 0.6673 - val_loss: nan - val_acc: 0.6701: \n",
      "Epoch 8/10\n",
      "110288/110288 [==============================] - 11s - loss: 1.1262 - acc: 0.6724 - val_loss: nan - val_acc: 0.6754s: 1.1383 - acc - ETA: 2s - loss: 1.1305 - acc: 0.672 - ETA: 2s - loss: 1.13 - ETA: 0s - loss: 1.1273 - acc: 0\n",
      "Epoch 9/10\n",
      "110288/110288 [==============================] - 11s - loss: 1.0932 - acc: 0.6777 - val_loss: nan - val_acc: 0.6805 - lo\n",
      "Epoch 10/10\n",
      "110288/110288 [==============================] - 11s - loss: 1.0640 - acc: 0.6831 - val_loss: nan - val_acc: 0.6871: 0.6\n"
     ]
    }
   ],
   "source": [
    "# TODO: Train and Print prediction(s)\n",
    "\n",
    "# Reshaping the input to work with a Embedding RNN\n",
    "tmp_x = pad(preproc_english_sentences, preproc_french_sentences.shape[1])\n",
    "tmp_x = tmp_x.reshape((-1, preproc_french_sentences.shape[-2], 1))\n",
    "\n",
    "# Train the neural network\n",
    "bd_rnn_model = bd_model(\n",
    "    tmp_x.shape,\n",
    "    preproc_french_sentences.shape[1],\n",
    "    len(english_tokenizer.word_index),\n",
    "    len(french_tokenizer.word_index))\n",
    "\n",
    "bd_rnn_model.summary()\n",
    "\n",
    "bd_rnn_model.fit(tmp_x, preproc_french_sentences, batch_size = 1024, epochs = 10, validation_split = 0.2);"
   ]
  },
  {
   "cell_type": "code",
   "execution_count": 16,
   "metadata": {
    "collapsed": false,
    "deletable": true,
    "editable": true
   },
   "outputs": [
    {
     "name": "stdout",
     "output_type": "stream",
     "text": [
      "new jersey est parfois calme en mois et il est est en en <PAD> <PAD> <PAD> <PAD> <PAD> <PAD> <PAD> <PAD>\n"
     ]
    }
   ],
   "source": [
    "# Print prediction(s)\n",
    "print(logits_to_text(bd_rnn_model.predict(tmp_x[:1])[0], french_tokenizer))"
   ]
  },
  {
   "cell_type": "markdown",
   "metadata": {
    "deletable": true,
    "editable": true
   },
   "source": [
    "### Model 4: Encoder-Decoder (OPTIONAL)\n",
    "Time to look at encoder-decoder models.  This model is made up of an encoder and decoder. The encoder creates a matrix representation of the sentence.  The decoder takes this matrix as input and predicts the translation as output.\n",
    "\n",
    "Create an encoder-decoder model in the cell below."
   ]
  },
  {
   "cell_type": "code",
   "execution_count": 17,
   "metadata": {
    "collapsed": true,
    "deletable": true,
    "editable": true
   },
   "outputs": [],
   "source": [
    "from keras.layers import RepeatVector\n",
    "\n",
    "def encdec_model(input_shape, output_sequence_length, english_vocab_size, french_vocab_size):\n",
    "    \"\"\"\n",
    "    Build and train an encoder-decoder model on x and y\n",
    "    :param input_shape: Tuple of input shape\n",
    "    :param output_sequence_length: Length of output sequence\n",
    "    :param english_vocab_size: Number of unique English words in the dataset\n",
    "    :param french_vocab_size: Number of unique French words in the dataset\n",
    "    :return: Keras model built, but not trained\n",
    "    \"\"\"\n",
    "    # OPTIONAL: Implement\n",
    "    \n",
    "    model = Sequential()\n",
    "    \n",
    "    units = 64\n",
    "    # Add Gated Recurrent Unit (GRU) layer\n",
    "    model.add(GRU(units, input_shape = input_shape[1:], return_sequences = False)) #Encoder\n",
    "    \n",
    "    # Get the last output of the GRU and repeats it\n",
    "    model.add(RepeatVector(output_sequence_length)) \n",
    "\n",
    "    model.add(GRU(units, return_sequences = True)) #Decoder    \n",
    "    \n",
    "    # Add TimeDistributed (output) layer\n",
    "    model.add(TimeDistributed(Dense(french_vocab_size, activation='softmax')))    \n",
    "    \n",
    "    learning_rate = 0.001\n",
    "            \n",
    "    # Compile the layer\n",
    "    model.compile(loss = sparse_categorical_crossentropy,\n",
    "                  optimizer = Adam(learning_rate),\n",
    "                  metrics = ['accuracy'])\n",
    "    \n",
    "    return model\n",
    "\n",
    "# Test the compiled model before traning\n",
    "tests.test_encdec_model(encdec_model)"
   ]
  },
  {
   "cell_type": "code",
   "execution_count": 18,
   "metadata": {
    "collapsed": false,
    "deletable": true,
    "editable": true
   },
   "outputs": [
    {
     "name": "stdout",
     "output_type": "stream",
     "text": [
      "_________________________________________________________________\n",
      "Layer (type)                 Output Shape              Param #   \n",
      "=================================================================\n",
      "gru_9 (GRU)                  (None, 64)                12672     \n",
      "_________________________________________________________________\n",
      "repeat_vector_2 (RepeatVecto (None, 21, 64)            0         \n",
      "_________________________________________________________________\n",
      "gru_10 (GRU)                 (None, 21, 64)            24768     \n",
      "_________________________________________________________________\n",
      "time_distributed_8 (TimeDist (None, 21, 344)           22360     \n",
      "=================================================================\n",
      "Total params: 59,800\n",
      "Trainable params: 59,800\n",
      "Non-trainable params: 0\n",
      "_________________________________________________________________\n",
      "Train on 110288 samples, validate on 27573 samples\n",
      "Epoch 1/10\n",
      "110288/110288 [==============================] - 10s - loss: 3.4955 - acc: 0.4141 - val_loss: nan - val_acc: 0.4445\n",
      "Epoch 2/10\n",
      "110288/110288 [==============================] - 10s - loss: 2.5837 - acc: 0.4670 - val_loss: nan - val_acc: 0.4775\n",
      "Epoch 3/10\n",
      "110288/110288 [==============================] - 9s - loss: 2.4022 - acc: 0.4867 - val_loss: nan - val_acc: 0.4951\n",
      "Epoch 4/10\n",
      "110288/110288 [==============================] - 9s - loss: 2.2658 - acc: 0.4981 - val_loss: nan - val_acc: 0.4999\n",
      "Epoch 5/10\n",
      "110288/110288 [==============================] - 9s - loss: 2.1854 - acc: 0.5066 - val_loss: nan - val_acc: 0.5226\n",
      "Epoch 6/10\n",
      "110288/110288 [==============================] - 10s - loss: 2.0946 - acc: 0.5213 - val_loss: nan - val_acc: 0.5260\n",
      "Epoch 7/10\n",
      "110288/110288 [==============================] - 10s - loss: 1.9443 - acc: 0.5367 - val_loss: nan - val_acc: 0.5480\n",
      "Epoch 8/10\n",
      "110288/110288 [==============================] - 10s - loss: 1.8479 - acc: 0.5477 - val_loss: nan - val_acc: 0.5535\n",
      "Epoch 9/10\n",
      "110288/110288 [==============================] - 10s - loss: 1.7803 - acc: 0.5532 - val_loss: nan - val_acc: 0.5557\n",
      "Epoch 10/10\n",
      "110288/110288 [==============================] - 10s - loss: 1.7259 - acc: 0.5572 - val_loss: nan - val_acc: 0.5637\n"
     ]
    }
   ],
   "source": [
    "# OPTIONAL: Train and Print prediction(s)\n",
    "\n",
    "# Reshaping the input to work with a basic RNN\n",
    "tmp_x = pad(preproc_english_sentences, preproc_french_sentences.shape[1])\n",
    "tmp_x = tmp_x.reshape((-1, preproc_french_sentences.shape[-2], 1))\n",
    "\n",
    "# Train the neural network\n",
    "encdec_rnn_model = encdec_model(\n",
    "    tmp_x.shape,\n",
    "    preproc_french_sentences.shape[1],\n",
    "    len(english_tokenizer.word_index),\n",
    "    len(french_tokenizer.word_index))\n",
    "\n",
    "encdec_rnn_model.summary()\n",
    "\n",
    "encdec_rnn_model.fit(tmp_x, preproc_french_sentences, batch_size = 1024, epochs = 10, validation_split = 0.2);"
   ]
  },
  {
   "cell_type": "code",
   "execution_count": 19,
   "metadata": {
    "collapsed": false,
    "deletable": true,
    "editable": true
   },
   "outputs": [
    {
     "name": "stdout",
     "output_type": "stream",
     "text": [
      "la est est est en en mais il il est est en en <PAD> <PAD> <PAD> <PAD> <PAD> <PAD> <PAD> <PAD>\n"
     ]
    }
   ],
   "source": [
    "# Print prediction(s)\n",
    "print(logits_to_text(encdec_rnn_model.predict(tmp_x[:1])[0], french_tokenizer))"
   ]
  },
  {
   "cell_type": "markdown",
   "metadata": {
    "deletable": true,
    "editable": true
   },
   "source": [
    "### Model 5: Custom (IMPLEMENTATION)\n",
    "Use everything you learned from the previous models to create a model that incorporates embedding and a bidirectional rnn into one model."
   ]
  },
  {
   "cell_type": "code",
   "execution_count": 25,
   "metadata": {
    "collapsed": false,
    "deletable": true,
    "editable": true
   },
   "outputs": [
    {
     "name": "stdout",
     "output_type": "stream",
     "text": [
      "Final Model Loaded\n"
     ]
    }
   ],
   "source": [
    "from keras.layers import Dropout\n",
    "\n",
    "def model_final(input_shape, output_sequence_length, english_vocab_size, french_vocab_size):\n",
    "    \"\"\"\n",
    "    Build and train a model that incorporates embedding, encoder-decoder, and bidirectional RNN on x and y\n",
    "    :param input_shape: Tuple of input shape\n",
    "    :param output_sequence_length: Length of output sequence\n",
    "    :param english_vocab_size: Number of unique English words in the dataset\n",
    "    :param french_vocab_size: Number of unique French words in the dataset\n",
    "    :return: Keras model built, but not trained\n",
    "    \"\"\"\n",
    "    # TODO: Implement\n",
    "    \n",
    "    model = Sequential()\n",
    "    \n",
    "     # Add embedding layer\n",
    "    model.add(Embedding(input_dim = english_vocab_size, \n",
    "                        output_dim = output_sequence_length,\n",
    "                        input_length = input_shape[1]))   \n",
    "\n",
    "    units = 512\n",
    "    # Add bidirectional GRU layer\n",
    "    model.add(Bidirectional(GRU(units, return_sequences = False))) # Encoder\n",
    "   \n",
    "    # Get the last output of the GRU and repeats it\n",
    "    model.add(RepeatVector(output_sequence_length))     \n",
    "    \n",
    "    # Add a dropout layer\n",
    "    model.add(Dropout(0.2))\n",
    "    \n",
    "    # Add bidirectional GRU layer\n",
    "    model.add(Bidirectional(GRU(units, return_sequences = True))) # Decoder\n",
    "    \n",
    "    # Add a dropout layer\n",
    "    model.add(Dropout(0.2))\n",
    "    \n",
    "    # Add TimeDistributed (output) layer    \n",
    "    model.add(TimeDistributed(Dense(french_vocab_size, activation=\"softmax\")))\n",
    "    \n",
    "    learning_rate = 0.001\n",
    "    \n",
    "    # Compile the layer    \n",
    "    model.compile(loss = sparse_categorical_crossentropy,\n",
    "                  optimizer = Adam(learning_rate),\n",
    "                  metrics = ['accuracy'])         \n",
    "    \n",
    "    return model\n",
    "\n",
    "# Test the compiled model before traning\n",
    "tests.test_model_final(model_final)\n",
    "\n",
    "print('Final Model Loaded')"
   ]
  },
  {
   "cell_type": "markdown",
   "metadata": {
    "deletable": true,
    "editable": true
   },
   "source": [
    "## Prediction (IMPLEMENTATION)"
   ]
  },
  {
   "cell_type": "code",
   "execution_count": 31,
   "metadata": {
    "collapsed": true,
    "deletable": true,
    "editable": true
   },
   "outputs": [],
   "source": [
    "import numpy as np\n",
    "from keras.preprocessing.sequence import pad_sequences\n",
    "from keras.callbacks import ModelCheckpoint, EarlyStopping, ReduceLROnPlateau\n",
    "\n",
    "def train_final_model(x, y, x_tk, y_tk):\n",
    "    \"\"\"\n",
    "    Train the final model\n",
    "    :param x: Preprocessed English data\n",
    "    :param y: Preprocessed French data\n",
    "    :param x_tk: English tokenizer\n",
    "    :param y_tk: French tokenizer\n",
    "    \"\"\"\n",
    "    # TODO: Train neural network using model_final\n",
    "    model = model_final(x.shape, y.shape[1], len(x_tk.word_index), len(y_tk.word_index))\n",
    "\n",
    "    model.summary()\n",
    "    \n",
    "    # Use callbacks to avoid overfitting\n",
    "    checkpointer = ModelCheckpoint(filepath ='model.weights.best.hdf5', \n",
    "                               verbose = 1, save_best_only = True, monitor='val_acc')\n",
    "    earlystopper = EarlyStopping(patience = 4, monitor='val_acc')\n",
    "    reduce_lr = ReduceLROnPlateau()   \n",
    "    \n",
    "    model.fit(x, y, batch_size = 1024, epochs = 50, validation_split = 0.2, \n",
    "              callbacks = [checkpointer, earlystopper, reduce_lr]);\n",
    "    \n",
    "    return model"
   ]
  },
  {
   "cell_type": "code",
   "execution_count": 32,
   "metadata": {
    "collapsed": false,
    "deletable": true,
    "editable": true
   },
   "outputs": [
    {
     "name": "stdout",
     "output_type": "stream",
     "text": [
      "_________________________________________________________________\n",
      "Layer (type)                 Output Shape              Param #   \n",
      "=================================================================\n",
      "embedding_9 (Embedding)      (None, 15, 21)            4179      \n",
      "_________________________________________________________________\n",
      "bidirectional_15 (Bidirectio (None, 1024)              1640448   \n",
      "_________________________________________________________________\n",
      "repeat_vector_9 (RepeatVecto (None, 21, 1024)          0         \n",
      "_________________________________________________________________\n",
      "dropout_13 (Dropout)         (None, 21, 1024)          0         \n",
      "_________________________________________________________________\n",
      "bidirectional_16 (Bidirectio (None, 21, 1024)          4721664   \n",
      "_________________________________________________________________\n",
      "dropout_14 (Dropout)         (None, 21, 1024)          0         \n",
      "_________________________________________________________________\n",
      "time_distributed_15 (TimeDis (None, 21, 344)           352600    \n",
      "=================================================================\n",
      "Total params: 6,718,891\n",
      "Trainable params: 6,718,891\n",
      "Non-trainable params: 0\n",
      "_________________________________________________________________\n",
      "Train on 110288 samples, validate on 27573 samples\n",
      "Epoch 1/50\n",
      "109568/110288 [============================>.] - ETA: 0s - loss: 2.8060 - acc: 0.4529Epoch 00000: val_acc improved from -inf to 0.49473, saving model to model.weights.best.hdf5\n",
      "110288/110288 [==============================] - 91s - loss: 2.8013 - acc: 0.4532 - val_loss: nan - val_acc: 0.4947\n",
      "Epoch 2/50\n",
      "109568/110288 [============================>.] - ETA: 0s - loss: 1.7988 - acc: 0.5405Epoch 00001: val_acc improved from 0.49473 to 0.60446, saving model to model.weights.best.hdf5\n",
      "110288/110288 [==============================] - 89s - loss: 1.7970 - acc: 0.5408 - val_loss: nan - val_acc: 0.6045\n",
      "Epoch 3/50\n",
      "109568/110288 [============================>.] - ETA: 0s - loss: 1.3923 - acc: 0.6234Epoch 00002: val_acc improved from 0.60446 to 0.66797, saving model to model.weights.best.hdf5\n",
      "110288/110288 [==============================] - 89s - loss: 1.3914 - acc: 0.6236 - val_loss: nan - val_acc: 0.6680\n",
      "Epoch 4/50\n",
      "109568/110288 [============================>.] - ETA: 0s - loss: 1.1738 - acc: 0.6728Epoch 00003: val_acc improved from 0.66797 to 0.69903, saving model to model.weights.best.hdf5\n",
      "110288/110288 [==============================] - 89s - loss: 1.1733 - acc: 0.6729 - val_loss: nan - val_acc: 0.6990\n",
      "Epoch 5/50\n",
      "109568/110288 [============================>.] - ETA: 0s - loss: 1.0291 - acc: 0.7026Epoch 00004: val_acc improved from 0.69903 to 0.72827, saving model to model.weights.best.hdf5\n",
      "110288/110288 [==============================] - 89s - loss: 1.0287 - acc: 0.7027 - val_loss: nan - val_acc: 0.7283\n",
      "Epoch 6/50\n",
      "109568/110288 [============================>.] - ETA: 0s - loss: 0.9024 - acc: 0.7307Epoch 00005: val_acc improved from 0.72827 to 0.75260, saving model to model.weights.best.hdf5\n",
      "110288/110288 [==============================] - 89s - loss: 0.9020 - acc: 0.7308 - val_loss: nan - val_acc: 0.7526\n",
      "Epoch 7/50\n",
      "109568/110288 [============================>.] - ETA: 0s - loss: 0.7914 - acc: 0.7600Epoch 00006: val_acc improved from 0.75260 to 0.78530, saving model to model.weights.best.hdf5\n",
      "110288/110288 [==============================] - 89s - loss: 0.7911 - acc: 0.7601 - val_loss: nan - val_acc: 0.7853\n",
      "Epoch 8/50\n",
      "109568/110288 [============================>.] - ETA: 0s - loss: 0.6833 - acc: 0.7937Epoch 00007: val_acc improved from 0.78530 to 0.82187, saving model to model.weights.best.hdf5\n",
      "110288/110288 [==============================] - 89s - loss: 0.6827 - acc: 0.7939 - val_loss: nan - val_acc: 0.8219\n",
      "Epoch 9/50\n",
      "109568/110288 [============================>.] - ETA: 0s - loss: 0.5932 - acc: 0.8191Epoch 00008: val_acc improved from 0.82187 to 0.84028, saving model to model.weights.best.hdf5\n",
      "110288/110288 [==============================] - 89s - loss: 0.5930 - acc: 0.8192 - val_loss: nan - val_acc: 0.8403\n",
      "Epoch 10/50\n",
      "109568/110288 [============================>.] - ETA: 0s - loss: 0.5219 - acc: 0.8379Epoch 00009: val_acc improved from 0.84028 to 0.86098, saving model to model.weights.best.hdf5\n",
      "110288/110288 [==============================] - 89s - loss: 0.5217 - acc: 0.8380 - val_loss: nan - val_acc: 0.8610\n",
      "Epoch 11/50\n",
      "109568/110288 [============================>.] - ETA: 0s - loss: 0.4469 - acc: 0.8598Epoch 00010: val_acc improved from 0.86098 to 0.88118, saving model to model.weights.best.hdf5\n",
      "110288/110288 [==============================] - 90s - loss: 0.4468 - acc: 0.8599 - val_loss: nan - val_acc: 0.8812\n",
      "Epoch 12/50\n",
      "109568/110288 [============================>.] - ETA: 0s - loss: 0.3852 - acc: 0.8806Epoch 00011: val_acc improved from 0.88118 to 0.89283, saving model to model.weights.best.hdf5\n",
      "110288/110288 [==============================] - 89s - loss: 0.3851 - acc: 0.8806 - val_loss: nan - val_acc: 0.8928\n",
      "Epoch 13/50\n",
      "109568/110288 [============================>.] - ETA: 0s - loss: 0.3739 - acc: 0.8846Epoch 00012: val_acc improved from 0.89283 to 0.89601, saving model to model.weights.best.hdf5\n",
      "110288/110288 [==============================] - 89s - loss: 0.3738 - acc: 0.8846 - val_loss: nan - val_acc: 0.8960\n",
      "Epoch 14/50\n",
      "109568/110288 [============================>.] - ETA: 0s - loss: 0.3652 - acc: 0.8874Epoch 00013: val_acc improved from 0.89601 to 0.89834, saving model to model.weights.best.hdf5\n",
      "110288/110288 [==============================] - 89s - loss: 0.3652 - acc: 0.8874 - val_loss: nan - val_acc: 0.8983\n",
      "Epoch 15/50\n",
      "109568/110288 [============================>.] - ETA: 0s - loss: 0.3586 - acc: 0.8896Epoch 00014: val_acc improved from 0.89834 to 0.90073, saving model to model.weights.best.hdf5\n",
      "110288/110288 [==============================] - 89s - loss: 0.3586 - acc: 0.8896 - val_loss: nan - val_acc: 0.9007\n",
      "Epoch 16/50\n",
      "109568/110288 [============================>.] - ETA: 0s - loss: 0.3503 - acc: 0.8925Epoch 00015: val_acc improved from 0.90073 to 0.90376, saving model to model.weights.best.hdf5\n",
      "110288/110288 [==============================] - 89s - loss: 0.3502 - acc: 0.8925 - val_loss: nan - val_acc: 0.9038\n",
      "Epoch 17/50\n",
      "109568/110288 [============================>.] - ETA: 0s - loss: 0.3426 - acc: 0.8951Epoch 00016: val_acc improved from 0.90376 to 0.90656, saving model to model.weights.best.hdf5\n",
      "110288/110288 [==============================] - 89s - loss: 0.3425 - acc: 0.8951 - val_loss: nan - val_acc: 0.9066\n",
      "Epoch 18/50\n",
      "109568/110288 [============================>.] - ETA: 0s - loss: 0.3349 - acc: 0.8975Epoch 00017: val_acc improved from 0.90656 to 0.90759, saving model to model.weights.best.hdf5\n",
      "110288/110288 [==============================] - 89s - loss: 0.3348 - acc: 0.8975 - val_loss: nan - val_acc: 0.9076\n",
      "Epoch 19/50\n",
      "109568/110288 [============================>.] - ETA: 0s - loss: 0.3268 - acc: 0.9002Epoch 00018: val_acc improved from 0.90759 to 0.91025, saving model to model.weights.best.hdf5\n",
      "110288/110288 [==============================] - 89s - loss: 0.3267 - acc: 0.9002 - val_loss: nan - val_acc: 0.9102\n",
      "Epoch 20/50\n",
      "109568/110288 [============================>.] - ETA: 0s - loss: 0.3197 - acc: 0.9025Epoch 00019: val_acc improved from 0.91025 to 0.91305, saving model to model.weights.best.hdf5\n",
      "110288/110288 [==============================] - 89s - loss: 0.3197 - acc: 0.9024 - val_loss: nan - val_acc: 0.9131\n",
      "Epoch 21/50\n",
      "109568/110288 [============================>.] - ETA: 0s - loss: 0.3111 - acc: 0.9055Epoch 00020: val_acc improved from 0.91305 to 0.91537, saving model to model.weights.best.hdf5\n",
      "110288/110288 [==============================] - 89s - loss: 0.3110 - acc: 0.9055 - val_loss: nan - val_acc: 0.9154\n",
      "Epoch 22/50\n",
      "109568/110288 [============================>.] - ETA: 0s - loss: 0.3029 - acc: 0.9081Epoch 00021: val_acc improved from 0.91537 to 0.91743, saving model to model.weights.best.hdf5\n",
      "110288/110288 [==============================] - 89s - loss: 0.3029 - acc: 0.9081 - val_loss: nan - val_acc: 0.9174\n",
      "Epoch 23/50\n",
      "109568/110288 [============================>.] - ETA: 0s - loss: 0.3010 - acc: 0.9087Epoch 00022: val_acc improved from 0.91743 to 0.91765, saving model to model.weights.best.hdf5\n",
      "110288/110288 [==============================] - 89s - loss: 0.3011 - acc: 0.9086 - val_loss: nan - val_acc: 0.9176\n",
      "Epoch 24/50\n",
      "109568/110288 [============================>.] - ETA: 0s - loss: 0.3002 - acc: 0.9092Epoch 00023: val_acc improved from 0.91765 to 0.91817, saving model to model.weights.best.hdf5\n",
      "110288/110288 [==============================] - 89s - loss: 0.3002 - acc: 0.9092 - val_loss: nan - val_acc: 0.9182\n",
      "Epoch 25/50\n",
      "109568/110288 [============================>.] - ETA: 0s - loss: 0.2993 - acc: 0.9093Epoch 00024: val_acc did not improve\n",
      "110288/110288 [==============================] - 89s - loss: 0.2994 - acc: 0.9093 - val_loss: nan - val_acc: 0.9181\n",
      "Epoch 26/50\n",
      "109568/110288 [============================>.] - ETA: 0s - loss: 0.2986 - acc: 0.9096Epoch 00025: val_acc improved from 0.91817 to 0.91861, saving model to model.weights.best.hdf5\n",
      "110288/110288 [==============================] - 89s - loss: 0.2987 - acc: 0.9096 - val_loss: nan - val_acc: 0.9186\n",
      "Epoch 27/50\n",
      "109568/110288 [============================>.] - ETA: 0s - loss: 0.2976 - acc: 0.9100Epoch 00026: val_acc improved from 0.91861 to 0.91880, saving model to model.weights.best.hdf5\n",
      "110288/110288 [==============================] - 89s - loss: 0.2978 - acc: 0.9099 - val_loss: nan - val_acc: 0.9188\n",
      "Epoch 28/50\n",
      "109568/110288 [============================>.] - ETA: 0s - loss: 0.2965 - acc: 0.9104Epoch 00027: val_acc improved from 0.91880 to 0.91909, saving model to model.weights.best.hdf5\n",
      "110288/110288 [==============================] - 89s - loss: 0.2965 - acc: 0.9104 - val_loss: nan - val_acc: 0.9191\n",
      "Epoch 29/50\n",
      "109568/110288 [============================>.] - ETA: 0s - loss: 0.2955 - acc: 0.9106Epoch 00028: val_acc improved from 0.91909 to 0.91944, saving model to model.weights.best.hdf5\n",
      "110288/110288 [==============================] - 89s - loss: 0.2955 - acc: 0.9106 - val_loss: nan - val_acc: 0.9194\n",
      "Epoch 30/50\n",
      "109568/110288 [============================>.] - ETA: 0s - loss: 0.2952 - acc: 0.9108Epoch 00029: val_acc improved from 0.91944 to 0.91974, saving model to model.weights.best.hdf5\n",
      "110288/110288 [==============================] - 89s - loss: 0.2951 - acc: 0.9108 - val_loss: nan - val_acc: 0.9197\n",
      "Epoch 31/50\n",
      "109568/110288 [============================>.] - ETA: 0s - loss: 0.2940 - acc: 0.9111Epoch 00030: val_acc improved from 0.91974 to 0.92013, saving model to model.weights.best.hdf5\n",
      "110288/110288 [==============================] - 89s - loss: 0.2938 - acc: 0.9111 - val_loss: nan - val_acc: 0.9201\n",
      "Epoch 32/50\n",
      "109568/110288 [============================>.] - ETA: 0s - loss: 0.2926 - acc: 0.9119Epoch 00031: val_acc improved from 0.92013 to 0.92020, saving model to model.weights.best.hdf5\n",
      "110288/110288 [==============================] - 89s - loss: 0.2925 - acc: 0.9119 - val_loss: nan - val_acc: 0.9202\n",
      "Epoch 33/50\n",
      "109568/110288 [============================>.] - ETA: 0s - loss: 0.2923 - acc: 0.9119Epoch 00032: val_acc improved from 0.92020 to 0.92030, saving model to model.weights.best.hdf5\n",
      "110288/110288 [==============================] - 89s - loss: 0.2925 - acc: 0.9119 - val_loss: nan - val_acc: 0.9203\n",
      "Epoch 34/50\n",
      "109568/110288 [============================>.] - ETA: 0s - loss: 0.2927 - acc: 0.9115Epoch 00033: val_acc improved from 0.92030 to 0.92034, saving model to model.weights.best.hdf5\n",
      "110288/110288 [==============================] - 89s - loss: 0.2926 - acc: 0.9115 - val_loss: nan - val_acc: 0.9203\n",
      "Epoch 35/50\n",
      "109568/110288 [============================>.] - ETA: 0s - loss: 0.2923 - acc: 0.9118Epoch 00034: val_acc improved from 0.92034 to 0.92036, saving model to model.weights.best.hdf5\n",
      "110288/110288 [==============================] - 89s - loss: 0.2923 - acc: 0.9118 - val_loss: nan - val_acc: 0.9204\n",
      "Epoch 36/50\n",
      "109568/110288 [============================>.] - ETA: 0s - loss: 0.2927 - acc: 0.9118Epoch 00035: val_acc improved from 0.92036 to 0.92037, saving model to model.weights.best.hdf5\n",
      "110288/110288 [==============================] - 89s - loss: 0.2925 - acc: 0.9118 - val_loss: nan - val_acc: 0.9204\n",
      "Epoch 37/50\n",
      "109568/110288 [============================>.] - ETA: 0s - loss: 0.2922 - acc: 0.9119Epoch 00036: val_acc improved from 0.92037 to 0.92041, saving model to model.weights.best.hdf5\n",
      "110288/110288 [==============================] - 89s - loss: 0.2920 - acc: 0.9119 - val_loss: nan - val_acc: 0.9204\n",
      "Epoch 38/50\n",
      "109568/110288 [============================>.] - ETA: 0s - loss: 0.2921 - acc: 0.9120Epoch 00037: val_acc improved from 0.92041 to 0.92045, saving model to model.weights.best.hdf5\n",
      "110288/110288 [==============================] - 89s - loss: 0.2921 - acc: 0.9120 - val_loss: nan - val_acc: 0.9204\n",
      "Epoch 39/50\n",
      "109568/110288 [============================>.] - ETA: 0s - loss: 0.2919 - acc: 0.9121Epoch 00038: val_acc did not improve\n",
      "110288/110288 [==============================] - 89s - loss: 0.2918 - acc: 0.9121 - val_loss: nan - val_acc: 0.9204\n",
      "Epoch 40/50\n",
      "109568/110288 [============================>.] - ETA: 0s - loss: 0.2918 - acc: 0.9119Epoch 00039: val_acc improved from 0.92045 to 0.92050, saving model to model.weights.best.hdf5\n",
      "110288/110288 [==============================] - 89s - loss: 0.2918 - acc: 0.9119 - val_loss: nan - val_acc: 0.9205\n",
      "Epoch 41/50\n",
      "109568/110288 [============================>.] - ETA: 0s - loss: 0.2917 - acc: 0.9119Epoch 00040: val_acc improved from 0.92050 to 0.92053, saving model to model.weights.best.hdf5\n",
      "110288/110288 [==============================] - 89s - loss: 0.2917 - acc: 0.9118 - val_loss: nan - val_acc: 0.9205\n",
      "Epoch 42/50\n",
      "109568/110288 [============================>.] - ETA: 0s - loss: 0.2916 - acc: 0.9119Epoch 00041: val_acc did not improve\n",
      "110288/110288 [==============================] - 89s - loss: 0.2915 - acc: 0.9119 - val_loss: nan - val_acc: 0.9205\n",
      "Epoch 43/50\n",
      "109568/110288 [============================>.] - ETA: 0s - loss: 0.2920 - acc: 0.9119Epoch 00042: val_acc improved from 0.92053 to 0.92053, saving model to model.weights.best.hdf5\n",
      "110288/110288 [==============================] - 89s - loss: 0.2918 - acc: 0.9119 - val_loss: nan - val_acc: 0.9205\n",
      "Epoch 44/50\n",
      "109568/110288 [============================>.] - ETA: 0s - loss: 0.2917 - acc: 0.9120Epoch 00043: val_acc improved from 0.92053 to 0.92054, saving model to model.weights.best.hdf5\n",
      "110288/110288 [==============================] - 89s - loss: 0.2916 - acc: 0.9120 - val_loss: nan - val_acc: 0.9205\n",
      "Epoch 45/50\n",
      "109568/110288 [============================>.] - ETA: 0s - loss: 0.2919 - acc: 0.9118Epoch 00044: val_acc improved from 0.92054 to 0.92057, saving model to model.weights.best.hdf5\n",
      "110288/110288 [==============================] - 89s - loss: 0.2919 - acc: 0.9118 - val_loss: nan - val_acc: 0.9206\n",
      "Epoch 46/50\n",
      "109568/110288 [============================>.] - ETA: 0s - loss: 0.2917 - acc: 0.9120Epoch 00045: val_acc did not improve\n",
      "110288/110288 [==============================] - 89s - loss: 0.2917 - acc: 0.9120 - val_loss: nan - val_acc: 0.9206\n",
      "Epoch 47/50\n",
      "109568/110288 [============================>.] - ETA: 0s - loss: 0.2917 - acc: 0.9120Epoch 00046: val_acc improved from 0.92057 to 0.92059, saving model to model.weights.best.hdf5\n",
      "110288/110288 [==============================] - 89s - loss: 0.2915 - acc: 0.9120 - val_loss: nan - val_acc: 0.9206\n",
      "Epoch 48/50\n",
      "109568/110288 [============================>.] - ETA: 0s - loss: 0.2915 - acc: 0.9122Epoch 00047: val_acc improved from 0.92059 to 0.92060, saving model to model.weights.best.hdf5\n",
      "110288/110288 [==============================] - 89s - loss: 0.2915 - acc: 0.9122 - val_loss: nan - val_acc: 0.9206\n",
      "Epoch 49/50\n",
      "109568/110288 [============================>.] - ETA: 0s - loss: 0.2918 - acc: 0.9120Epoch 00048: val_acc did not improve\n",
      "110288/110288 [==============================] - 89s - loss: 0.2917 - acc: 0.9120 - val_loss: nan - val_acc: 0.9206\n",
      "Epoch 50/50\n",
      "109568/110288 [============================>.] - ETA: 0s - loss: 0.2917 - acc: 0.9120Epoch 00049: val_acc did not improve\n",
      "110288/110288 [==============================] - 89s - loss: 0.2918 - acc: 0.9119 - val_loss: nan - val_acc: 0.9206\n",
      "Sample 1:\n",
      "il a vu un vieux camion jaune <PAD> <PAD> <PAD> <PAD> <PAD> <PAD> <PAD> <PAD> <PAD> <PAD> <PAD> <PAD> <PAD> <PAD>\n",
      "Il a vu un vieux camion jaune\n",
      "Sample 2:\n",
      "new jersey est parfois calme pendant automne et il est neigeux en avril <PAD> <PAD> <PAD> <PAD> <PAD> <PAD> <PAD> <PAD>\n",
      "<PAD> <PAD> <PAD> <PAD> <PAD> <PAD> <PAD> <PAD> <PAD> <PAD> <PAD> <PAD> <PAD> <PAD> <PAD> <PAD> <PAD> <PAD> <PAD> <PAD> <PAD>\n"
     ]
    }
   ],
   "source": [
    "def final_predictions(x, y, x_tk, y_tk, model):\n",
    "    \"\"\"\n",
    "    Gets predictions using the final model\n",
    "    :param x: Preprocessed English data\n",
    "    :param y: Preprocessed French data\n",
    "    :param x_tk: English tokenizer\n",
    "    :param y_tk: French tokenizer\n",
    "    \"\"\"\n",
    "    \n",
    "    ## DON'T EDIT ANYTHING BELOW THIS LINE\n",
    "    y_id_to_word = {value: key for key, value in y_tk.word_index.items()}\n",
    "    y_id_to_word[0] = '<PAD>'\n",
    "\n",
    "    sentence = 'he saw a old yellow truck'\n",
    "    sentence = [x_tk.word_index[word] for word in sentence.split()]\n",
    "    sentence = pad_sequences([sentence], maxlen=x.shape[-1], padding='post')\n",
    "    sentences = np.array([sentence[0], x[0]])\n",
    "    predictions = model.predict(sentences, len(sentences))\n",
    "\n",
    "    print('Sample 1:')\n",
    "    print(' '.join([y_id_to_word[np.argmax(x)] for x in predictions[0]]))\n",
    "    print('Il a vu un vieux camion jaune')\n",
    "    print('Sample 2:')\n",
    "    print(' '.join([y_id_to_word[np.argmax(x)] for x in predictions[1]]))\n",
    "    print(' '.join([y_id_to_word[np.argmax(x)] for x in y[0]]))\n",
    "\n",
    "model = train_final_model(preproc_english_sentences, preproc_french_sentences, english_tokenizer, french_tokenizer)\n",
    "final_predictions(preproc_english_sentences, preproc_french_sentences, english_tokenizer, french_tokenizer, model)"
   ]
  },
  {
   "cell_type": "markdown",
   "metadata": {
    "deletable": true,
    "editable": true
   },
   "source": [
    "## Submission\n",
    "When you are ready to submit your project, do the following steps:\n",
    "1. Ensure you pass all points on the [rubric](https://review.udacity.com/#!/rubrics/1004/view).\n",
    "2. Submit the following in a zip file.\n",
    "  - `helper.py`\n",
    "  - `machine_translation.ipynb`\n",
    "  - `machine_translation.html`\n",
    "    - You can export the notebook by navigating to **File -> Download as -> HTML (.html)**."
   ]
  }
 ],
 "metadata": {
  "anaconda-cloud": {},
  "kernelspec": {
   "display_name": "Python 3",
   "language": "python",
   "name": "python3"
  },
  "language_info": {
   "codemirror_mode": {
    "name": "ipython",
    "version": 3
   },
   "file_extension": ".py",
   "mimetype": "text/x-python",
   "name": "python",
   "nbconvert_exporter": "python",
   "pygments_lexer": "ipython3",
   "version": "3.5.3"
  }
 },
 "nbformat": 4,
 "nbformat_minor": 1
}
