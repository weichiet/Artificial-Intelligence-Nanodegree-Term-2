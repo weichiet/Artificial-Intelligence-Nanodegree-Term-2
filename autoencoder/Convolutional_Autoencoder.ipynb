{
 "cells": [
  {
   "cell_type": "markdown",
   "metadata": {},
   "source": [
    "# Convolutional Autoencoder\n",
    "\n",
    "Sticking with the MNIST dataset, let's improve our autoencoder's performance using convolutional layers. Again, loading modules and the data."
   ]
  },
  {
   "cell_type": "code",
   "execution_count": 1,
   "metadata": {
    "collapsed": true
   },
   "outputs": [],
   "source": [
    "%matplotlib inline\n",
    "\n",
    "import numpy as np\n",
    "import tensorflow as tf\n",
    "import matplotlib.pyplot as plt"
   ]
  },
  {
   "cell_type": "code",
   "execution_count": 2,
   "metadata": {},
   "outputs": [
    {
     "name": "stdout",
     "output_type": "stream",
     "text": [
      "Extracting MNIST_data/train-images-idx3-ubyte.gz\n",
      "Extracting MNIST_data/train-labels-idx1-ubyte.gz\n",
      "Extracting MNIST_data/t10k-images-idx3-ubyte.gz\n",
      "Extracting MNIST_data/t10k-labels-idx1-ubyte.gz\n"
     ]
    }
   ],
   "source": [
    "from tensorflow.examples.tutorials.mnist import input_data\n",
    "mnist = input_data.read_data_sets('MNIST_data', validation_size=0)"
   ]
  },
  {
   "cell_type": "code",
   "execution_count": 3,
   "metadata": {},
   "outputs": [
    {
     "data": {
      "text/plain": [
       "<matplotlib.image.AxesImage at 0x7f818c57e390>"
      ]
     },
     "execution_count": 3,
     "metadata": {},
     "output_type": "execute_result"
    },
    {
     "data": {
      "image/png": "[encoded data removed]",
      "text/plain": [
       "<matplotlib.figure.Figure at 0x7f819ce00b00>"
      ]
     },
     "metadata": {},
     "output_type": "display_data"
    }
   ],
   "source": [
    "img = mnist.train.images[2]\n",
    "plt.imshow(img.reshape((28, 28)), cmap='Greys_r')"
   ]
  },
  {
   "cell_type": "markdown",
   "metadata": {},
   "source": [
    "## Network Architecture\n",
    "\n",
    "The encoder part of the network will be a typical convolutional pyramid. Each convolutional layer will be followed by a max-pooling layer to reduce the dimensions of the layers. The decoder though might be something new to you. The decoder needs to convert from a narrow representation to a wide reconstructed image. For example, the representation could be a 4x4x8 max-pool layer. This is the output of the encoder, but also the input to the decoder. We want to get a 28x28x1 image out from the decoder so we need to work our way back up from the narrow decoder input layer. A schematic of the network is shown below.\n",
    "\n",
    "<img src='assets/convolutional_autoencoder.png' width=500px>\n",
    "\n",
    "Here our final encoder layer has size 4x4x8 = 128. The original images have size 28x28 = 784, so the encoded vector is roughly 16% the size of the original image. These are just suggested sizes for each of the layers. Feel free to change the depths and sizes, but remember our goal here is to find a small representation of the input data.\n",
    "\n",
    "### What's going on with the decoder\n",
    "\n",
    "Okay, so the decoder has these \"Upsample\" layers that you might not have seen before. First off, I'll discuss a bit what these layers *aren't*. Usually, you'll see **transposed convolution** layers used to increase the width and height of the layers. They work almost exactly the same as convolutional layers, but in reverse. A stride in the input layer results in a larger stride in the transposed convolution layer. For example, if you have a 3x3 kernel, a 3x3 patch in the input layer will be reduced to one unit in a convolutional layer. Comparatively, one unit in the input layer will be expanded to a 3x3 path in a transposed convolution layer. The TensorFlow API provides us with an easy way to create the layers, [`tf.nn.conv2d_transpose`](https://www.tensorflow.org/api_docs/python/tf/nn/conv2d_transpose). \n",
    "\n",
    "However, transposed convolution layers can lead to artifacts in the final images, such as checkerboard patterns. This is due to overlap in the kernels which can be avoided by setting the stride and kernel size equal. In [this Distill article](http://distill.pub/2016/deconv-checkerboard/) from Augustus Odena, *et al*, the authors show that these checkerboard artifacts can be avoided by resizing the layers using nearest neighbor or bilinear interpolation (upsampling) followed by a convolutional layer. In TensorFlow, this is easily done with [`tf.image.resize_images`](https://www.tensorflow.org/versions/r1.1/api_docs/python/tf/image/resize_images), followed by a convolution. Be sure to read the Distill article to get a better understanding of deconvolutional layers and why we're using upsampling.\n",
    "\n",
    "> **Exercise:** Build the network shown above. Remember that a convolutional layer with strides of 1 and 'same' padding won't reduce the height and width. That is, if the input is 28x28 and the convolution layer has stride = 1 and 'same' padding, the convolutional layer will also be 28x28. The max-pool layers are used the reduce the width and height. A stride of 2 will reduce the size by a factor of 2. Odena *et al* claim that nearest neighbor interpolation works best for the upsampling, so make sure to include that as a parameter in `tf.image.resize_images` or use [`tf.image.resize_nearest_neighbor`]( `https://www.tensorflow.org/api_docs/python/tf/image/resize_nearest_neighbor). For convolutional layers, use [`tf.layers.conv2d`](https://www.tensorflow.org/api_docs/python/tf/layers/conv2d). For example, you would write `conv1 = tf.layers.conv2d(inputs, 32, (5,5), padding='same', activation=tf.nn.relu)` for a layer with a depth of 32, a 5x5 kernel, stride of (1,1), padding is 'same', and a ReLU activation. Similarly, for the max-pool layers, use [`tf.layers.max_pooling2d`](https://www.tensorflow.org/api_docs/python/tf/layers/max_pooling2d)."
   ]
  },
  {
   "cell_type": "code",
   "execution_count": 4,
   "metadata": {
    "collapsed": true
   },
   "outputs": [],
   "source": [
    "learning_rate = 0.001\n",
    "\n",
    "# Input and target placeholders\n",
    "inputs_ = tf.placeholder(tf.float32, (None, 28, 28, 1), name = 'inputs')\n",
    "targets_ = tf.placeholder(tf.float32, (None, 28, 28, 1), name = 'targets')\n",
    "\n",
    "### Encoder\n",
    "conv1 = tf.layers.conv2d(inputs_, 16, (3,3), padding = 'same', activation=tf.nn.relu)\n",
    "# Now 28x28x16\n",
    "maxpool1 = tf.layers.max_pooling2d(conv1, (2,2), (2,2), padding = 'same')\n",
    "# Now 14x14x16\n",
    "conv2 = tf.layers.conv2d(maxpool1, 8, (3,3), padding = 'same', activation=tf.nn.relu)\n",
    "# Now 14x14x8\n",
    "maxpool2 = tf.layers.max_pooling2d(conv2, (2,2), (2,2), padding = 'same')\n",
    "# Now 7x7x8\n",
    "conv3 = tf.layers.conv2d(maxpool2, 8, (3,3), padding = 'same', activation=tf.nn.relu)\n",
    "# Now 7x7x8\n",
    "encoded = tf.layers.max_pooling2d(conv3, (2,2), (2,2), padding = 'same')\n",
    "# Now 4x4x8\n",
    "\n",
    "### Decoder\n",
    "upsample1 = tf.image.resize_nearest_neighbor(encoded, (7,7))\n",
    "# Now 7x7x8\n",
    "conv4 = tf.layers.conv2d(upsample1, 8, (3,3), padding = 'same', activation=tf.nn.relu)\n",
    "# Now 7x7x8\n",
    "upsample2 = tf.image.resize_nearest_neighbor(conv4, (14,14))\n",
    "# Now 14x14x8\n",
    "conv5 = tf.layers.conv2d(upsample2, 8, (3,3), padding = 'same', activation=tf.nn.relu)\n",
    "# Now 14x14x8\n",
    "upsample3 = tf.image.resize_nearest_neighbor(conv5, (28,28))\n",
    "# Now 28x28x8\n",
    "conv6 = tf.layers.conv2d(upsample3, 16, (3,3), padding = 'same', activation=tf.nn.relu)\n",
    "# Now 28x28x16\n",
    "\n",
    "logits = tf.layers.conv2d(conv6, 1, (3,3), padding = 'same', activation=None)\n",
    "#Now 28x28x1\n",
    "\n",
    "# Pass logits through sigmoid to get reconstructed image\n",
    "decoded = tf.nn.sigmoid(logits, name = 'decoded')\n",
    "\n",
    "# Pass logits through sigmoid and calculate the cross-entropy loss\n",
    "loss = tf.nn.sigmoid_cross_entropy_with_logits(labels = targets_, logits = logits)\n",
    "\n",
    "# Get cost and define the optimizer\n",
    "cost = tf.reduce_mean(loss)\n",
    "opt = tf.train.AdamOptimizer(learning_rate).minimize(cost)"
   ]
  },
  {
   "cell_type": "markdown",
   "metadata": {},
   "source": [
    "## Training\n",
    "\n",
    "As before, here we'll train the network. Instead of flattening the images though, we can pass them in as 28x28x1 arrays."
   ]
  },
  {
   "cell_type": "code",
   "execution_count": 5,
   "metadata": {
    "collapsed": true
   },
   "outputs": [],
   "source": [
    "sess = tf.Session()"
   ]
  },
  {
   "cell_type": "code",
   "execution_count": 7,
   "metadata": {
    "scrolled": true
   },
   "outputs": [
    {
     "name": "stdout",
     "output_type": "stream",
     "text": [
      "Epoch: 1/20... Training loss: 0.6909\n",
      "Epoch: 1/20... Training loss: 0.1882\n",
      "Epoch: 2/20... Training loss: 0.1562\n",
      "Epoch: 2/20... Training loss: 0.1415\n",
      "Epoch: 3/20... Training loss: 0.1373\n",
      "Epoch: 3/20... Training loss: 0.1254\n",
      "Epoch: 4/20... Training loss: 0.1217\n",
      "Epoch: 4/20... Training loss: 0.1163\n",
      "Epoch: 5/20... Training loss: 0.1195\n",
      "Epoch: 5/20... Training loss: 0.1183\n",
      "Epoch: 6/20... Training loss: 0.1208\n",
      "Epoch: 6/20... Training loss: 0.1147\n",
      "Epoch: 7/20... Training loss: 0.1145\n",
      "Epoch: 7/20... Training loss: 0.1140\n",
      "Epoch: 8/20... Training loss: 0.1114\n",
      "Epoch: 8/20... Training loss: 0.1112\n",
      "Epoch: 9/20... Training loss: 0.1096\n",
      "Epoch: 9/20... Training loss: 0.1078\n",
      "Epoch: 10/20... Training loss: 0.1064\n",
      "Epoch: 10/20... Training loss: 0.1052\n",
      "Epoch: 11/20... Training loss: 0.1134\n",
      "Epoch: 11/20... Training loss: 0.1043\n",
      "Epoch: 12/20... Training loss: 0.1112\n",
      "Epoch: 12/20... Training loss: 0.1098\n",
      "Epoch: 13/20... Training loss: 0.1053\n",
      "Epoch: 13/20... Training loss: 0.1037\n",
      "Epoch: 14/20... Training loss: 0.1032\n",
      "Epoch: 14/20... Training loss: 0.1043\n",
      "Epoch: 15/20... Training loss: 0.1017\n",
      "Epoch: 15/20... Training loss: 0.1042\n",
      "Epoch: 16/20... Training loss: 0.1051\n",
      "Epoch: 16/20... Training loss: 0.1033\n",
      "Epoch: 17/20... Training loss: 0.1062\n",
      "Epoch: 17/20... Training loss: 0.1028\n",
      "Epoch: 18/20... Training loss: 0.1040\n",
      "Epoch: 18/20... Training loss: 0.1026\n",
      "Epoch: 19/20... Training loss: 0.1009\n",
      "Epoch: 19/20... Training loss: 0.1018\n",
      "Epoch: 20/20... Training loss: 0.1033\n",
      "Epoch: 20/20... Training loss: 0.1006\n"
     ]
    }
   ],
   "source": [
    "epochs = 20\n",
    "batch_size = 200\n",
    "sess.run(tf.global_variables_initializer())\n",
    "for e in range(epochs):\n",
    "    for ii in range(mnist.train.num_examples//batch_size):\n",
    "        batch = mnist.train.next_batch(batch_size)\n",
    "        imgs = batch[0].reshape((-1, 28, 28, 1))\n",
    "        batch_cost, _ = sess.run([cost, opt], feed_dict={inputs_: imgs,\n",
    "                                                         targets_: imgs})\n",
    "        if (ii % 150 == 0):\n",
    "            print(\"Epoch: {}/{}...\".format(e+1, epochs),\n",
    "                  \"Training loss: {:.4f}\".format(batch_cost))"
   ]
  },
  {
   "cell_type": "code",
   "execution_count": 8,
   "metadata": {},
   "outputs": [
    {
     "data": {
      "image/png": "[encoded data removed]",
      "text/plain": [
       "<matplotlib.figure.Figure at 0x7f818c6195f8>"
      ]
     },
     "metadata": {},
     "output_type": "display_data"
    }
   ],
   "source": [
    "fig, axes = plt.subplots(nrows=2, ncols=10, sharex=True, sharey=True, figsize=(20,4))\n",
    "in_imgs = mnist.test.images[:10]\n",
    "reconstructed = sess.run(decoded, feed_dict={inputs_: in_imgs.reshape((10, 28, 28, 1))})\n",
    "\n",
    "for images, row in zip([in_imgs, reconstructed], axes):\n",
    "    for img, ax in zip(images, row):\n",
    "        ax.imshow(img.reshape((28, 28)), cmap='Greys_r')\n",
    "        ax.get_xaxis().set_visible(False)\n",
    "        ax.get_yaxis().set_visible(False)\n",
    "\n",
    "\n",
    "fig.tight_layout(pad=0.1)"
   ]
  },
  {
   "cell_type": "code",
   "execution_count": 9,
   "metadata": {
    "collapsed": true
   },
   "outputs": [],
   "source": [
    "sess.close()"
   ]
  },
  {
   "cell_type": "markdown",
   "metadata": {},
   "source": [
    "## Denoising\n",
    "\n",
    "As I've mentioned before, autoencoders like the ones you've built so far aren't too useful in practive. However, they can be used to denoise images quite successfully just by training the network on noisy images. We can create the noisy images ourselves by adding Gaussian noise to the training images, then clipping the values to be between 0 and 1. We'll use noisy images as input and the original, clean images as targets. Here's an example of the noisy images I generated and the denoised images.\n",
    "\n",
    "![Denoising autoencoder](assets/denoising.png)\n",
    "\n",
    "\n",
    "Since this is a harder problem for the network, we'll want to use deeper convolutional layers here, more feature maps. I suggest something like 32-32-16 for the depths of the convolutional layers in the encoder, and the same depths going backward through the decoder. Otherwise the architecture is the same as before.\n",
    "\n",
    "> **Exercise:** Build the network for the denoising autoencoder. It's the same as before, but with deeper layers. I suggest 32-32-16 for the depths, but you can play with these numbers, or add more layers."
   ]
  },
  {
   "cell_type": "code",
   "execution_count": 10,
   "metadata": {
    "collapsed": true
   },
   "outputs": [],
   "source": [
    "learning_rate = 0.001\n",
    "inputs_ = tf.placeholder(tf.float32, (None, 28, 28, 1), name='inputs')\n",
    "targets_ = tf.placeholder(tf.float32, (None, 28, 28, 1), name='targets')\n",
    "\n",
    "### Encoder\n",
    "conv1 = tf.layers.conv2d(inputs_, 32, (3,3), padding='same', activation=tf.nn.relu)\n",
    "# Now 28x28x32\n",
    "maxpool1 = tf.layers.max_pooling2d(conv1, (2,2), (2,2), padding='same')\n",
    "# Now 14x14x32\n",
    "conv2 = tf.layers.conv2d(maxpool1, 32, (3,3), padding='same', activation=tf.nn.relu)\n",
    "# Now 14x14x32\n",
    "maxpool2 = tf.layers.max_pooling2d(conv2, (2,2), (2,2), padding='same')\n",
    "# Now 7x7x32\n",
    "conv3 = tf.layers.conv2d(maxpool2, 16, (3,3), padding='same', activation=tf.nn.relu)\n",
    "# Now 7x7x16\n",
    "encoded = tf.layers.max_pooling2d(conv3, (2,2), (2,2), padding='same')\n",
    "# Now 4x4x16\n",
    "\n",
    "### Decoder\n",
    "upsample1 = tf.image.resize_nearest_neighbor(encoded, (7,7))\n",
    "# Now 7x7x16\n",
    "conv4 = tf.layers.conv2d(upsample1, 16, (3,3), padding='same', activation=tf.nn.relu)\n",
    "# Now 7x7x16\n",
    "upsample2 = tf.image.resize_nearest_neighbor(conv4, (14,14))\n",
    "# Now 14x14x16\n",
    "conv5 = tf.layers.conv2d(upsample2, 32, (3,3), padding='same', activation=tf.nn.relu)\n",
    "# Now 14x14x32\n",
    "upsample3 = tf.image.resize_nearest_neighbor(conv5, (28,28))\n",
    "# Now 28x28x32\n",
    "conv6 = tf.layers.conv2d(upsample3, 32, (3,3), padding='same', activation=tf.nn.relu)\n",
    "# Now 28x28x32\n",
    "\n",
    "logits = tf.layers.conv2d(conv6, 1, (3,3), padding='same', activation=None)\n",
    "#Now 28x28x1\n",
    "\n",
    "decoded = tf.nn.sigmoid(logits, name='decoded')\n",
    "\n",
    "loss = tf.nn.sigmoid_cross_entropy_with_logits(labels=targets_, logits=logits)\n",
    "cost = tf.reduce_mean(loss)\n",
    "opt = tf.train.AdamOptimizer(0.001).minimize(cost)"
   ]
  },
  {
   "cell_type": "code",
   "execution_count": 11,
   "metadata": {
    "collapsed": true
   },
   "outputs": [],
   "source": [
    "sess = tf.Session()"
   ]
  },
  {
   "cell_type": "code",
   "execution_count": 12,
   "metadata": {},
   "outputs": [
    {
     "name": "stdout",
     "output_type": "stream",
     "text": [
      "Epoch: 1/100... Training loss: 0.1661\n",
      "Epoch: 2/100... Training loss: 0.1393\n",
      "Epoch: 3/100... Training loss: 0.1303\n",
      "Epoch: 4/100... Training loss: 0.1221\n",
      "Epoch: 5/100... Training loss: 0.1202\n",
      "Epoch: 6/100... Training loss: 0.1205\n",
      "Epoch: 7/100... Training loss: 0.1190\n",
      "Epoch: 8/100... Training loss: 0.1142\n",
      "Epoch: 9/100... Training loss: 0.1163\n",
      "Epoch: 10/100... Training loss: 0.1147\n",
      "Epoch: 11/100... Training loss: 0.1110\n",
      "Epoch: 12/100... Training loss: 0.1112\n",
      "Epoch: 13/100... Training loss: 0.1118\n",
      "Epoch: 14/100... Training loss: 0.1060\n",
      "Epoch: 15/100... Training loss: 0.1123\n",
      "Epoch: 16/100... Training loss: 0.1090\n",
      "Epoch: 17/100... Training loss: 0.1080\n",
      "Epoch: 18/100... Training loss: 0.1049\n",
      "Epoch: 19/100... Training loss: 0.1055\n",
      "Epoch: 20/100... Training loss: 0.1043\n",
      "Epoch: 21/100... Training loss: 0.1059\n",
      "Epoch: 22/100... Training loss: 0.1017\n",
      "Epoch: 23/100... Training loss: 0.1035\n",
      "Epoch: 24/100... Training loss: 0.1072\n",
      "Epoch: 25/100... Training loss: 0.1043\n",
      "Epoch: 26/100... Training loss: 0.1026\n",
      "Epoch: 27/100... Training loss: 0.1038\n",
      "Epoch: 28/100... Training loss: 0.1085\n",
      "Epoch: 29/100... Training loss: 0.1029\n",
      "Epoch: 30/100... Training loss: 0.1040\n",
      "Epoch: 31/100... Training loss: 0.1044\n",
      "Epoch: 32/100... Training loss: 0.1010\n",
      "Epoch: 33/100... Training loss: 0.1059\n",
      "Epoch: 34/100... Training loss: 0.1031\n",
      "Epoch: 35/100... Training loss: 0.1020\n",
      "Epoch: 36/100... Training loss: 0.1006\n",
      "Epoch: 37/100... Training loss: 0.1035\n",
      "Epoch: 38/100... Training loss: 0.1045\n",
      "Epoch: 39/100... Training loss: 0.1026\n",
      "Epoch: 40/100... Training loss: 0.0996\n",
      "Epoch: 41/100... Training loss: 0.1043\n",
      "Epoch: 42/100... Training loss: 0.1008\n",
      "Epoch: 43/100... Training loss: 0.0996\n",
      "Epoch: 44/100... Training loss: 0.1052\n",
      "Epoch: 45/100... Training loss: 0.1006\n",
      "Epoch: 46/100... Training loss: 0.0984\n",
      "Epoch: 47/100... Training loss: 0.1012\n",
      "Epoch: 48/100... Training loss: 0.1023\n",
      "Epoch: 49/100... Training loss: 0.1012\n",
      "Epoch: 50/100... Training loss: 0.1003\n",
      "Epoch: 51/100... Training loss: 0.1012\n",
      "Epoch: 52/100... Training loss: 0.0989\n",
      "Epoch: 53/100... Training loss: 0.0970\n",
      "Epoch: 54/100... Training loss: 0.0984\n",
      "Epoch: 55/100... Training loss: 0.0972\n",
      "Epoch: 56/100... Training loss: 0.1028\n",
      "Epoch: 57/100... Training loss: 0.0999\n",
      "Epoch: 58/100... Training loss: 0.1025\n",
      "Epoch: 59/100... Training loss: 0.1026\n",
      "Epoch: 60/100... Training loss: 0.0984\n",
      "Epoch: 61/100... Training loss: 0.1014\n",
      "Epoch: 62/100... Training loss: 0.0979\n",
      "Epoch: 63/100... Training loss: 0.1008\n",
      "Epoch: 64/100... Training loss: 0.0991\n",
      "Epoch: 65/100... Training loss: 0.1025\n",
      "Epoch: 66/100... Training loss: 0.1008\n",
      "Epoch: 67/100... Training loss: 0.1004\n",
      "Epoch: 68/100... Training loss: 0.0996\n",
      "Epoch: 69/100... Training loss: 0.0982\n",
      "Epoch: 70/100... Training loss: 0.0993\n",
      "Epoch: 71/100... Training loss: 0.0992\n",
      "Epoch: 72/100... Training loss: 0.0988\n",
      "Epoch: 73/100... Training loss: 0.1000\n",
      "Epoch: 74/100... Training loss: 0.1004\n",
      "Epoch: 75/100... Training loss: 0.0995\n",
      "Epoch: 76/100... Training loss: 0.0969\n",
      "Epoch: 77/100... Training loss: 0.0971\n",
      "Epoch: 78/100... Training loss: 0.0969\n",
      "Epoch: 79/100... Training loss: 0.0985\n",
      "Epoch: 80/100... Training loss: 0.0987\n",
      "Epoch: 81/100... Training loss: 0.0976\n",
      "Epoch: 82/100... Training loss: 0.1026\n",
      "Epoch: 83/100... Training loss: 0.1029\n",
      "Epoch: 84/100... Training loss: 0.0994\n",
      "Epoch: 85/100... Training loss: 0.0991\n",
      "Epoch: 86/100... Training loss: 0.0979\n",
      "Epoch: 87/100... Training loss: 0.1024\n",
      "Epoch: 88/100... Training loss: 0.1005\n",
      "Epoch: 89/100... Training loss: 0.0977\n",
      "Epoch: 90/100... Training loss: 0.0982\n",
      "Epoch: 91/100... Training loss: 0.1006\n",
      "Epoch: 92/100... Training loss: 0.0968\n",
      "Epoch: 93/100... Training loss: 0.0976\n",
      "Epoch: 94/100... Training loss: 0.0967\n",
      "Epoch: 95/100... Training loss: 0.0992\n",
      "Epoch: 96/100... Training loss: 0.0984\n",
      "Epoch: 97/100... Training loss: 0.1000\n",
      "Epoch: 98/100... Training loss: 0.1012\n",
      "Epoch: 99/100... Training loss: 0.1001\n",
      "Epoch: 100/100... Training loss: 0.0987\n"
     ]
    }
   ],
   "source": [
    "epochs = 100\n",
    "batch_size = 200\n",
    "# Set's how much noise we're adding to the MNIST images\n",
    "noise_factor = 0.5\n",
    "sess.run(tf.global_variables_initializer())\n",
    "for e in range(epochs):\n",
    "    for ii in range(mnist.train.num_examples//batch_size):\n",
    "        batch = mnist.train.next_batch(batch_size)\n",
    "        # Get images from the batch\n",
    "        imgs = batch[0].reshape((-1, 28, 28, 1))\n",
    "        \n",
    "        # Add random noise to the input images\n",
    "        noisy_imgs = imgs + noise_factor * np.random.randn(*imgs.shape)\n",
    "        # Clip the images to be between 0 and 1\n",
    "        noisy_imgs = np.clip(noisy_imgs, 0., 1.)\n",
    "        \n",
    "        # Noisy images as inputs, original images as targets\n",
    "        batch_cost, _ = sess.run([cost, opt], feed_dict={inputs_: noisy_imgs,\n",
    "                                                         targets_: imgs})\n",
    "    if (epochs % 10 == 0):\n",
    "        print(\"Epoch: {}/{}...\".format(e+1, epochs),\n",
    "              \"Training loss: {:.4f}\".format(batch_cost))"
   ]
  },
  {
   "cell_type": "markdown",
   "metadata": {},
   "source": [
    "## Checking out the performance\n",
    "\n",
    "Here I'm adding noise to the test images and passing them through the autoencoder. It does a suprisingly great job of removing the noise, even though it's sometimes difficult to tell what the original number is."
   ]
  },
  {
   "cell_type": "code",
   "execution_count": 13,
   "metadata": {},
   "outputs": [
    {
     "data": {
      "image/png": "[encoded data removed]",
      "text/plain": [
       "<matplotlib.figure.Figure at 0x7f818284a470>"
      ]
     },
     "metadata": {},
     "output_type": "display_data"
    }
   ],
   "source": [
    "fig, axes = plt.subplots(nrows=2, ncols=10, sharex=True, sharey=True, figsize=(20,4))\n",
    "in_imgs = mnist.test.images[:10]\n",
    "noisy_imgs = in_imgs + noise_factor * np.random.randn(*in_imgs.shape)\n",
    "noisy_imgs = np.clip(noisy_imgs, 0., 1.)\n",
    "\n",
    "reconstructed = sess.run(decoded, feed_dict={inputs_: noisy_imgs.reshape((10, 28, 28, 1))})\n",
    "\n",
    "for images, row in zip([noisy_imgs, reconstructed], axes):\n",
    "    for img, ax in zip(images, row):\n",
    "        ax.imshow(img.reshape((28, 28)), cmap='Greys_r')\n",
    "        ax.get_xaxis().set_visible(False)\n",
    "        ax.get_yaxis().set_visible(False)\n",
    "\n",
    "fig.tight_layout(pad=0.1)"
   ]
  }
 ],
 "metadata": {
  "anaconda-cloud": {},
  "kernelspec": {
   "display_name": "Python 3",
   "language": "python",
   "name": "python3"
  },
  "language_info": {
   "codemirror_mode": {
    "name": "ipython",
    "version": 3
   },
   "file_extension": ".py",
   "mimetype": "text/x-python",
   "name": "python",
   "nbconvert_exporter": "python",
   "pygments_lexer": "ipython3",
   "version": "3.6.1"
  }
 },
 "nbformat": 4,
 "nbformat_minor": 2
}
